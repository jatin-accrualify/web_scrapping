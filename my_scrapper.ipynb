{
 "cells": [
  {
   "cell_type": "code",
   "execution_count": 15,
   "metadata": {},
   "outputs": [],
   "source": [
    "import requests\n",
    "from bs4 import BeautifulSoup as bs\n",
    "from urllib.request import urlopen"
   ]
  },
  {
   "cell_type": "code",
   "execution_count": 10,
   "metadata": {},
   "outputs": [],
   "source": [
    "flipkart_url = \"https://www.flipkart.com/search?q=\" + \"oneplus11r\""
   ]
  },
  {
   "cell_type": "code",
   "execution_count": 11,
   "metadata": {},
   "outputs": [
    {
     "data": {
      "text/plain": [
       "'https://www.flipkart.com/search?q=oneplus11r'"
      ]
     },
     "execution_count": 11,
     "metadata": {},
     "output_type": "execute_result"
    }
   ],
   "source": [
    "flipkart_url"
   ]
  },
  {
   "cell_type": "code",
   "execution_count": 12,
   "metadata": {},
   "outputs": [],
   "source": [
    "urlclient = urlopen(flipkart_url)"
   ]
  },
  {
   "cell_type": "code",
   "execution_count": 13,
   "metadata": {},
   "outputs": [],
   "source": [
    "flipkart_page = urlclient.read()"
   ]
  },
  {
   "cell_type": "code",
   "execution_count": 16,
   "metadata": {},
   "outputs": [],
   "source": [
    "flipkart_html = bs(flipkart_page, 'html.parser')"
   ]
  },
  {
   "cell_type": "code",
   "execution_count": 21,
   "metadata": {},
   "outputs": [],
   "source": [
    "big_box = flipkart_html.find_all(\"div\",{\"class\":\"_1AtVbE col-12-12\"})"
   ]
  },
  {
   "cell_type": "code",
   "execution_count": 22,
   "metadata": {},
   "outputs": [
    {
     "data": {
      "text/plain": [
       "24"
      ]
     },
     "execution_count": 22,
     "metadata": {},
     "output_type": "execute_result"
    }
   ],
   "source": [
    "len(big_box)"
   ]
  },
  {
   "cell_type": "code",
   "execution_count": 29,
   "metadata": {},
   "outputs": [],
   "source": [
    "del big_box[0:2]"
   ]
  },
  {
   "cell_type": "code",
   "execution_count": 35,
   "metadata": {},
   "outputs": [],
   "source": [
    "product_link = \"https://www.flipkart.com\" + big_box[5].div.div.div.a['href']"
   ]
  },
  {
   "cell_type": "code",
   "execution_count": 36,
   "metadata": {},
   "outputs": [
    {
     "data": {
      "text/plain": [
       "'https://www.flipkart.com/oneplus-9r-5g-carbon-black-256-gb/p/itm24a7a12a09005?pid=MOBGDM5U7HY8E4AD&lid=LSTMOBGDM5U7HY8E4ADUTI7NO&marketplace=FLIPKART&q=oneplus11r&store=tyy%2F4io&srno=s_1_6&otracker=search&fm=organic&iid=9e4df2b6-0dbd-496c-8b90-22de564733e0.MOBGDM5U7HY8E4AD.SEARCH&ppt=None&ppn=None&ssid=ba0kzifc1s0000001704451431085&qH=55bddd3425ecd38c'"
      ]
     },
     "execution_count": 36,
     "metadata": {},
     "output_type": "execute_result"
    }
   ],
   "source": [
    "product_link"
   ]
  },
  {
   "cell_type": "code",
   "execution_count": 38,
   "metadata": {},
   "outputs": [
    {
     "name": "stdout",
     "output_type": "stream",
     "text": [
      "https://www.flipkart.com/oneplus-11r-5g-sonic-black-128-gb/p/itmd8344a066fd54?pid=MOBGPHSYPEBUYCDE&lid=LSTMOBGPHSYPEBUYCDETT0M2Q&marketplace=FLIPKART&q=oneplus11r&store=tyy%2F4io&srno=s_1_1&otracker=search&fm=organic&iid=9e4df2b6-0dbd-496c-8b90-22de564733e0.MOBGPHSYPEBUYCDE.SEARCH&ppt=None&ppn=None&ssid=ba0kzifc1s0000001704451431085&qH=55bddd3425ecd38c\n",
      "https://www.flipkart.com/oneplus-11r-5g-sonic-black-128-gb/p/itmd8344a066fd54?pid=MOBGQ9PX4FCMG5MP&lid=LSTMOBGQ9PX4FCMG5MPBD6UWX&marketplace=FLIPKART&q=oneplus11r&store=tyy%2F4io&srno=s_1_2&otracker=search&fm=organic&iid=9e4df2b6-0dbd-496c-8b90-22de564733e0.MOBGQ9PX4FCMG5MP.SEARCH&ppt=None&ppn=None&ssid=ba0kzifc1s0000001704451431085&qH=55bddd3425ecd38c\n",
      "https://www.flipkart.com/oneplus-11r-5g-sonic-black-128-gb/p/itmd8344a066fd54?pid=MOBGN3AF8GEAKKNA&lid=LSTMOBGN3AF8GEAKKNAZYRU0V&marketplace=FLIPKART&q=oneplus11r&store=tyy%2F4io&srno=s_1_3&otracker=search&fm=organic&iid=9e4df2b6-0dbd-496c-8b90-22de564733e0.MOBGN3AF8GEAKKNA.SEARCH&ppt=None&ppn=None&ssid=ba0kzifc1s0000001704451431085&qH=55bddd3425ecd38c\n",
      "https://www.flipkart.com/oneplus-11r-5g-galactic-silver-128-gb/p/itmd8344a066fd54?pid=MOBGN3C4MWPDUDYZ&lid=LSTMOBGN3C4MWPDUDYZ97KFLE&marketplace=FLIPKART&q=oneplus11r&store=tyy%2F4io&srno=s_1_4&otracker=search&fm=organic&iid=9e4df2b6-0dbd-496c-8b90-22de564733e0.MOBGN3C4MWPDUDYZ.SEARCH&ppt=None&ppn=None&ssid=ba0kzifc1s0000001704451431085&qH=55bddd3425ecd38c\n",
      "https://www.flipkart.com/oneplus-10r-sierra-black-128-gb/p/itm88cd94d6f0592?pid=MOBGHBNGX9ZK6HQV&lid=LSTMOBGHBNGX9ZK6HQVEKZBIK&marketplace=FLIPKART&q=oneplus11r&store=tyy%2F4io&srno=s_1_5&otracker=search&fm=organic&iid=9e4df2b6-0dbd-496c-8b90-22de564733e0.MOBGHBNGX9ZK6HQV.SEARCH&ppt=None&ppn=None&ssid=ba0kzifc1s0000001704451431085&qH=55bddd3425ecd38c\n",
      "https://www.flipkart.com/oneplus-9r-5g-carbon-black-256-gb/p/itm24a7a12a09005?pid=MOBGDM5U7HY8E4AD&lid=LSTMOBGDM5U7HY8E4ADUTI7NO&marketplace=FLIPKART&q=oneplus11r&store=tyy%2F4io&srno=s_1_6&otracker=search&fm=organic&iid=9e4df2b6-0dbd-496c-8b90-22de564733e0.MOBGDM5U7HY8E4AD.SEARCH&ppt=None&ppn=None&ssid=ba0kzifc1s0000001704451431085&qH=55bddd3425ecd38c\n",
      "https://www.flipkart.com/oneplus-10r-sierra-black-128-gb/p/itmf456f29b7b4a4?pid=MOBGQR6JMFGHRDD9&lid=LSTMOBGQR6JMFGHRDD9OOOB7H&marketplace=FLIPKART&q=oneplus11r&store=tyy%2F4io&srno=s_1_7&otracker=search&fm=organic&iid=9e4df2b6-0dbd-496c-8b90-22de564733e0.MOBGQR6JMFGHRDD9.SEARCH&ppt=None&ppn=None&ssid=ba0kzifc1s0000001704451431085&qH=55bddd3425ecd38c\n",
      "https://www.flipkart.com/oneplus-10r-5g-sierra-black-256-gb/p/itm2f374010d17aa?pid=MOBGGA29CAYJC3QH&lid=LSTMOBGGA29CAYJC3QHLNWTF5&marketplace=FLIPKART&q=oneplus11r&store=tyy%2F4io&srno=s_1_8&otracker=search&fm=organic&iid=9e4df2b6-0dbd-496c-8b90-22de564733e0.MOBGGA29CAYJC3QH.SEARCH&ppt=None&ppn=None&ssid=ba0kzifc1s0000001704451431085&qH=55bddd3425ecd38c\n",
      "https://www.flipkart.com/oneplus-9r-5g-carbon-black-128-gb/p/itm24a7a12a09005?pid=MOBGDHUH68MSEPXG&lid=LSTMOBGDHUH68MSEPXGNUAK5R&marketplace=FLIPKART&q=oneplus11r&store=tyy%2F4io&srno=s_1_9&otracker=search&fm=organic&iid=9e4df2b6-0dbd-496c-8b90-22de564733e0.MOBGDHUH68MSEPXG.SEARCH&ppt=None&ppn=None&ssid=ba0kzifc1s0000001704451431085&qH=55bddd3425ecd38c\n",
      "https://www.flipkart.com/oneplus-11r-5g-solar-red-512-gb/p/itmd8344a066fd54?pid=MOBGU5JQDHVR9FSM&lid=LSTMOBGU5JQDHVR9FSMOWJEAY&marketplace=FLIPKART&q=oneplus11r&store=tyy%2F4io&srno=s_1_10&otracker=search&fm=organic&iid=9e4df2b6-0dbd-496c-8b90-22de564733e0.MOBGU5JQDHVR9FSM.SEARCH&ppt=None&ppn=None&ssid=ba0kzifc1s0000001704451431085&qH=55bddd3425ecd38c\n",
      "https://www.flipkart.com/oneplus-11r-5g-red-128-gb/p/itmd8344a066fd54?pid=MOBGU5H75Z53G2TT&lid=LSTMOBGU5H75Z53G2TTNIXEFH&marketplace=FLIPKART&q=oneplus11r&store=tyy%2F4io&srno=s_1_11&otracker=search&fm=organic&iid=9e4df2b6-0dbd-496c-8b90-22de564733e0.MOBGU5H75Z53G2TT.SEARCH&ppt=None&ppn=None&ssid=ba0kzifc1s0000001704451431085&qH=55bddd3425ecd38c\n",
      "https://www.flipkart.com/oneplus-11r-5g-sonic-black-256-gb/p/itmd8344a066fd54?pid=MOBGN3AUFRGVERFB&lid=LSTMOBGN3AUFRGVERFBC47UTI&marketplace=FLIPKART&q=oneplus11r&store=tyy%2F4io&srno=s_1_12&otracker=search&fm=organic&iid=9e4df2b6-0dbd-496c-8b90-22de564733e0.MOBGN3AUFRGVERFB.SEARCH&ppt=None&ppn=None&ssid=ba0kzifc1s0000001704451431085&qH=55bddd3425ecd38c\n",
      "https://www.flipkart.com/oneplus-11r-5g-galactic-silver-256-gb/p/itmd8344a066fd54?pid=MOBGN3BQGU5BRTHZ&lid=LSTMOBGN3BQGU5BRTHZPIDTXV&marketplace=FLIPKART&q=oneplus11r&store=tyy%2F4io&srno=s_1_13&otracker=search&fm=organic&iid=9e4df2b6-0dbd-496c-8b90-22de564733e0.MOBGN3BQGU5BRTHZ.SEARCH&ppt=None&ppn=None&ssid=ba0kzifc1s0000001704451431085&qH=55bddd3425ecd38c\n",
      "https://www.flipkart.com/oneplus-11r-5g-sonic-black-128-gb/p/itm5767df1c34b95?pid=MOBGR9YT72QSGDHV&lid=LSTMOBGR9YT72QSGDHV59ITDD&marketplace=FLIPKART&q=oneplus11r&store=tyy%2F4io&srno=s_1_14&otracker=search&fm=organic&iid=9e4df2b6-0dbd-496c-8b90-22de564733e0.MOBGR9YT72QSGDHV.SEARCH&ppt=None&ppn=None&ssid=ba0kzifc1s0000001704451431085&qH=55bddd3425ecd38c\n",
      "https://www.flipkart.com/oneplus-11r-5g-sonic-black-256-gb/p/itmc8f74b96e7f56?pid=MOBGQJV2BN4QMFMZ&lid=LSTMOBGQJV2BN4QMFMZAJYZ8F&marketplace=FLIPKART&q=oneplus11r&store=tyy%2F4io&srno=s_1_15&otracker=search&fm=organic&iid=9e4df2b6-0dbd-496c-8b90-22de564733e0.MOBGQJV2BN4QMFMZ.SEARCH&ppt=None&ppn=None&ssid=ba0kzifc1s0000001704451431085&qH=55bddd3425ecd38c\n",
      "https://www.flipkart.com/oneplus-11r-5g-solar-red-256-gb/p/itmd8344a066fd54?pid=MOBGU5PH4GF6ZJGJ&lid=LSTMOBGU5PH4GF6ZJGJ4ZWENN&marketplace=FLIPKART&q=oneplus11r&store=tyy%2F4io&srno=s_1_16&otracker=search&fm=organic&iid=9e4df2b6-0dbd-496c-8b90-22de564733e0.MOBGU5PH4GF6ZJGJ.SEARCH&ppt=None&ppn=None&ssid=ba0kzifc1s0000001704451431085&qH=55bddd3425ecd38c\n",
      "https://www.flipkart.com/oneplus-9r-5g-lake-blue-128-gb/p/itm24a7a12a09005?pid=MOBGDNATSWGFAFJD&lid=LSTMOBGDNATSWGFAFJDKVSYEI&marketplace=FLIPKART&q=oneplus11r&store=tyy%2F4io&srno=s_1_17&otracker=search&fm=organic&iid=9e4df2b6-0dbd-496c-8b90-22de564733e0.MOBGDNATSWGFAFJD.SEARCH&ppt=None&ppn=None&ssid=ba0kzifc1s0000001704451431085&qH=55bddd3425ecd38c\n",
      "https://www.flipkart.com/oneplus-9r-5g-lake-blue-256-gb/p/itm3a05ef20fffd2?pid=MOBGDNAUHRYAT7ZA&lid=LSTMOBGDNAUHRYAT7ZAMTS5A1&marketplace=FLIPKART&q=oneplus11r&store=tyy%2F4io&srno=s_1_18&otracker=search&fm=organic&iid=9e4df2b6-0dbd-496c-8b90-22de564733e0.MOBGDNAUHRYAT7ZA.SEARCH&ppt=None&ppn=None&ssid=ba0kzifc1s0000001704451431085&qH=55bddd3425ecd38c\n",
      "https://www.flipkart.com/oneplus-10r-5g-sierra-black-256-gb/p/itmcb2a6380a386a?pid=MOBGQ9PXGXG9FCNU&lid=LSTMOBGQ9PXGXG9FCNUR9BT7A&marketplace=FLIPKART&q=oneplus11r&store=tyy%2F4io&srno=s_1_19&otracker=search&fm=organic&iid=9e4df2b6-0dbd-496c-8b90-22de564733e0.MOBGQ9PXGXG9FCNU.SEARCH&ppt=None&ppn=None&ssid=ba0kzifc1s0000001704451431085&qH=55bddd3425ecd38c\n"
     ]
    },
    {
     "ename": "AttributeError",
     "evalue": "'NoneType' object has no attribute 'a'",
     "output_type": "error",
     "traceback": [
      "\u001b[0;31m---------------------------------------------------------------------------\u001b[0m",
      "\u001b[0;31mAttributeError\u001b[0m                            Traceback (most recent call last)",
      "Cell \u001b[0;32mIn[38], line 2\u001b[0m\n\u001b[1;32m      1\u001b[0m \u001b[38;5;28;01mfor\u001b[39;00m i \u001b[38;5;129;01min\u001b[39;00m big_box:\n\u001b[0;32m----> 2\u001b[0m     \u001b[38;5;28mprint\u001b[39m(\u001b[38;5;124m\"\u001b[39m\u001b[38;5;124mhttps://www.flipkart.com\u001b[39m\u001b[38;5;124m\"\u001b[39m \u001b[38;5;241m+\u001b[39m \u001b[43mi\u001b[49m\u001b[38;5;241;43m.\u001b[39;49m\u001b[43mdiv\u001b[49m\u001b[38;5;241;43m.\u001b[39;49m\u001b[43mdiv\u001b[49m\u001b[38;5;241;43m.\u001b[39;49m\u001b[43mdiv\u001b[49m\u001b[38;5;241;43m.\u001b[39;49m\u001b[43ma\u001b[49m[\u001b[38;5;124m'\u001b[39m\u001b[38;5;124mhref\u001b[39m\u001b[38;5;124m'\u001b[39m])\n",
      "\u001b[0;31mAttributeError\u001b[0m: 'NoneType' object has no attribute 'a'"
     ]
    }
   ],
   "source": [
    "for i in big_box:\n",
    "    print(\"https://www.flipkart.com\" + i.div.div.div.a['href'])"
   ]
  },
  {
   "cell_type": "code",
   "execution_count": 39,
   "metadata": {},
   "outputs": [],
   "source": [
    "product_request = requests.get(product_link)"
   ]
  },
  {
   "cell_type": "code",
   "execution_count": 41,
   "metadata": {},
   "outputs": [],
   "source": [
    "product_html = bs(product_request.text,'html.parser')"
   ]
  },
  {
   "cell_type": "code",
   "execution_count": 42,
   "metadata": {},
   "outputs": [],
   "source": [
    "comment_box = product_html.find_all(\"div\", {'class':'_16PBlm'})"
   ]
  },
  {
   "cell_type": "code",
   "execution_count": 43,
   "metadata": {},
   "outputs": [
    {
     "data": {
      "text/plain": [
       "2"
      ]
     },
     "execution_count": 43,
     "metadata": {},
     "output_type": "execute_result"
    }
   ],
   "source": [
    "len(comment_box)"
   ]
  },
  {
   "cell_type": "code",
   "execution_count": 50,
   "metadata": {},
   "outputs": [
    {
     "data": {
      "text/plain": [
       "<div class=\"row\"><div class=\"_3LWZlK _1BLPMq\">4<img class=\"_1wB99o\" src=\"data:image/svg+xml;base64,PHN2ZyB4bWxucz0iaHR0cDovL3d3dy53My5vcmcvMjAwMC9zdmciIHdpZHRoPSIxMyIgaGVpZ2h0PSIxMiI+PHBhdGggZmlsbD0iI0ZGRiIgZD0iTTYuNSA5LjQzOWwtMy42NzQgMi4yMy45NC00LjI2LTMuMjEtMi44ODMgNC4yNTQtLjQwNEw2LjUuMTEybDEuNjkgNC4wMSA0LjI1NC40MDQtMy4yMSAyLjg4Mi45NCA0LjI2eiIvPjwvc3ZnPg==\"/></div><p class=\"_2-N8zT\">Delightful</p></div>"
      ]
     },
     "execution_count": 50,
     "metadata": {},
     "output_type": "execute_result"
    }
   ],
   "source": [
    "comment_box[0].div.div.find_all(\"div\",{\"class\":\"row\"})[0]"
   ]
  },
  {
   "cell_type": "code",
   "execution_count": null,
   "metadata": {},
   "outputs": [],
   "source": []
  }
 ],
 "metadata": {
  "kernelspec": {
   "display_name": "invoice_parser",
   "language": "python",
   "name": "python3"
  },
  "language_info": {
   "codemirror_mode": {
    "name": "ipython",
    "version": 3
   },
   "file_extension": ".py",
   "mimetype": "text/x-python",
   "name": "python",
   "nbconvert_exporter": "python",
   "pygments_lexer": "ipython3",
   "version": "3.8.15"
  }
 },
 "nbformat": 4,
 "nbformat_minor": 2
}
